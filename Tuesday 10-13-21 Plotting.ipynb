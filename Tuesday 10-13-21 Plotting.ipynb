{
 "cells": [
  {
   "cell_type": "code",
   "execution_count": 1,
   "id": "d5ee4da1",
   "metadata": {},
   "outputs": [
    {
     "name": "stdout",
     "output_type": "stream",
     "text": [
      "c =  205.2\n"
     ]
    }
   ],
   "source": [
    "import numpy as np\n",
    "def fred(a,b) : \n",
    "    c = (a+b)*12\n",
    "    return c \n",
    "a = 13.2\n",
    "b = 3.9\n",
    "\n",
    "c = fred(a,b)\n",
    "\n",
    "print (\"c = \", c)\n"
   ]
  },
  {
   "cell_type": "code",
   "execution_count": 4,
   "id": "4bd5e530",
   "metadata": {},
   "outputs": [
    {
     "name": "stdout",
     "output_type": "stream",
     "text": [
      "dtotal = 1.3\n",
      "errtotal = 0.0007071067811865475\n"
     ]
    }
   ],
   "source": [
    "def rule3 (da, db) :\n",
    "    dQ = np.sqrt(da**2+db**2)\n",
    "    return dQ\n",
    "d1 = 1.0 \n",
    "d2 = 0.3\n",
    "errd1 = 0.0005\n",
    "errd2 = 0.0005\n",
    "dtotal = d1 + d2\n",
    "errtotal = rule3 (errd1, errd2)\n",
    "print(\"dtotal =\", dtotal)\n",
    "print(\"errtotal =\", errtotal)\n"
   ]
  },
  {
   "cell_type": "code",
   "execution_count": 31,
   "id": "7b64ab28",
   "metadata": {},
   "outputs": [
    {
     "name": "stdout",
     "output_type": "stream",
     "text": [
      "xmean= 1.1166666666666667\n",
      "standard dev x= 0.17950549357115014\n",
      "errxmean= 6.220793828931237\n"
     ]
    }
   ],
   "source": [
    "x = np.array ([1.1, 1.3, 1.4, 0.9, 0.95, 1.05])\n",
    "\n",
    "std_x = np.std(x)\n",
    "xmean = np.average(x)\n",
    "errxmean = (xmean/std_x)\n",
    "\n",
    "print (\"xmean=\",xmean)\n",
    "print (\"standard dev x=\",std_x)\n",
    "print (\"errxmean=\",errxmean)\n",
    "\n",
    "# The average mean for the data set is 1.117, the standard deviation is 0.180 and the error in the mean is 6.22\n"
   ]
  },
  {
   "cell_type": "code",
   "execution_count": 16,
   "id": "506cef75",
   "metadata": {},
   "outputs": [
    {
     "name": "stdout",
     "output_type": "stream",
     "text": [
      "dtotal =  1.3\n",
      "errtotal =  2.5e-07\n"
     ]
    }
   ],
   "source": [
    "# Propagation rule 1\n",
    "import numpy as np\n",
    "\n",
    "def rule1 (c, da) :\n",
    "    dQ = c*da\n",
    "    return dQ\n",
    "d1 = 1.0\n",
    "d2 = 0.3\n",
    "errd1 = 0.0005\n",
    "errd2 = 0.0005\n",
    "dtotal = d1 + d2\n",
    "errtotal = rule1 (errd1, errd2)\n",
    "print (\"dtotal = \", dtotal)\n",
    "print (\"errtotal = \", errtotal)\n",
    "\n"
   ]
  },
  {
   "cell_type": "code",
   "execution_count": 22,
   "id": "11012ef9",
   "metadata": {},
   "outputs": [
    {
     "name": "stdout",
     "output_type": "stream",
     "text": [
      "q = 1.0\n",
      "errq =  1.5\n"
     ]
    }
   ],
   "source": [
    "# propagation rule 2\n",
    "import numpy as np\n",
    "\n",
    "def rule2 (dA, A, Q, m) : \n",
    "    dQ = Q*(m*(dA/A))\n",
    "    return dQ\n",
    "a = 2.0\n",
    "dA = 1.0\n",
    "M = 3.0\n",
    "m = 5.0\n",
    "q = 1.0\n",
    "errq = rule2(dA, a, M, q)\n",
    "\n",
    "\n",
    "print (\"q =\", q)\n",
    "print (\"errq = \", errq)\n",
    "\n"
   ]
  },
  {
   "cell_type": "code",
   "execution_count": 29,
   "id": "9893398a",
   "metadata": {},
   "outputs": [
    {
     "name": "stdout",
     "output_type": "stream",
     "text": [
      "q = 2.33\n",
      "errq = 0.006675288899895741\n"
     ]
    }
   ],
   "source": [
    "#Propagation Rule 4\n",
    "import numpy as np\n",
    "\n",
    "def rule4 (dA, dB, A, B, m, q) :\n",
    "    dQ = q*np.sqrt(m*(dA/A))**2+(q*(dB/B))**2\n",
    "    return dQ\n",
    "dA = 0.003\n",
    "dB = 0.00025\n",
    "A = 1.0472\n",
    "B = 0.99\n",
    "q = 2.33\n",
    "m = 1.0\n",
    "errq = rule4(dA, dB, A, B, m, q)\n",
    "\n",
    "print (\"q =\", q)\n",
    "print (\"errq =\",errq)\n",
    "\n"
   ]
  },
  {
   "cell_type": "markdown",
   "id": "be6fc306",
   "metadata": {},
   "source": [
    "$\\delta Q = \\sqrt{\\delta A^2 +\\delta B^2} $"
   ]
  },
  {
   "cell_type": "markdown",
   "id": "29606992",
   "metadata": {},
   "source": [
    "$\\delta V_i = V_i\\sqrt{(\\frac{\\delta \\overline x}{\\overline x})^2+(\\frac{-1/2\\delta y}{y})^2}$"
   ]
  },
  {
   "cell_type": "code",
   "execution_count": null,
   "id": "1d0e6571",
   "metadata": {},
   "outputs": [],
   "source": []
  }
 ],
 "metadata": {
  "kernelspec": {
   "display_name": "Python 3",
   "language": "python",
   "name": "python3"
  },
  "language_info": {
   "codemirror_mode": {
    "name": "ipython",
    "version": 3
   },
   "file_extension": ".py",
   "mimetype": "text/x-python",
   "name": "python",
   "nbconvert_exporter": "python",
   "pygments_lexer": "ipython3",
   "version": "3.8.8"
  }
 },
 "nbformat": 4,
 "nbformat_minor": 5
}
